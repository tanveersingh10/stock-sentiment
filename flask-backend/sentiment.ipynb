{
 "cells": [
  {
   "cell_type": "code",
   "execution_count": 29,
   "id": "aa706b55-c2f2-4e5d-a3db-cb05cd2c2441",
   "metadata": {},
   "outputs": [
    {
     "name": "stdout",
     "output_type": "stream",
     "text": [
      "Requirement already satisfied: transformers in /Users/tanveersingh/miniconda3/lib/python3.10/site-packages (4.30.2)\n",
      "Requirement already satisfied: huggingface-hub<1.0,>=0.14.1 in /Users/tanveersingh/miniconda3/lib/python3.10/site-packages (from transformers) (0.14.1)\n",
      "Requirement already satisfied: tokenizers!=0.11.3,<0.14,>=0.11.1 in /Users/tanveersingh/miniconda3/lib/python3.10/site-packages (from transformers) (0.13.3)\n",
      "Requirement already satisfied: filelock in /Users/tanveersingh/miniconda3/lib/python3.10/site-packages (from transformers) (3.12.0)\n",
      "Requirement already satisfied: regex!=2019.12.17 in /Users/tanveersingh/miniconda3/lib/python3.10/site-packages (from transformers) (2023.5.5)\n",
      "Requirement already satisfied: safetensors>=0.3.1 in /Users/tanveersingh/miniconda3/lib/python3.10/site-packages (from transformers) (0.3.1)\n",
      "Requirement already satisfied: numpy>=1.17 in /Users/tanveersingh/miniconda3/lib/python3.10/site-packages (from transformers) (1.24.3)\n",
      "Requirement already satisfied: pyyaml>=5.1 in /Users/tanveersingh/miniconda3/lib/python3.10/site-packages (from transformers) (6.0)\n",
      "Requirement already satisfied: packaging>=20.0 in /Users/tanveersingh/miniconda3/lib/python3.10/site-packages (from transformers) (23.0)\n",
      "Requirement already satisfied: requests in /Users/tanveersingh/miniconda3/lib/python3.10/site-packages (from transformers) (2.28.1)\n",
      "Requirement already satisfied: tqdm>=4.27 in /Users/tanveersingh/miniconda3/lib/python3.10/site-packages (from transformers) (4.65.0)\n",
      "Requirement already satisfied: typing-extensions>=3.7.4.3 in /Users/tanveersingh/miniconda3/lib/python3.10/site-packages (from huggingface-hub<1.0,>=0.14.1->transformers) (4.5.0)\n",
      "Requirement already satisfied: fsspec in /Users/tanveersingh/miniconda3/lib/python3.10/site-packages (from huggingface-hub<1.0,>=0.14.1->transformers) (2023.5.0)\n",
      "Requirement already satisfied: idna<4,>=2.5 in /Users/tanveersingh/miniconda3/lib/python3.10/site-packages (from requests->transformers) (3.4)\n",
      "Requirement already satisfied: charset-normalizer<3,>=2 in /Users/tanveersingh/miniconda3/lib/python3.10/site-packages (from requests->transformers) (2.0.4)\n",
      "Requirement already satisfied: urllib3<1.27,>=1.21.1 in /Users/tanveersingh/miniconda3/lib/python3.10/site-packages (from requests->transformers) (1.26.15)\n",
      "Requirement already satisfied: certifi>=2017.4.17 in /Users/tanveersingh/miniconda3/lib/python3.10/site-packages (from requests->transformers) (2023.5.7)\n",
      "Requirement already satisfied: sentencepiece in /Users/tanveersingh/miniconda3/lib/python3.10/site-packages (0.1.99)\n"
     ]
    }
   ],
   "source": [
    "!pip install transformers\n",
    "!pip install sentencepiece\n"
   ]
  },
  {
   "cell_type": "code",
   "execution_count": 30,
   "id": "3e2f023f-8b54-4c86-9f76-336bf30b2785",
   "metadata": {},
   "outputs": [],
   "source": [
    "# \"The Pegasus Tokenizer will preprocess your text in the way that the Pegasus model was originally trained on, including lowercasing text, splitting it into subwords, and mapping these subwords to their corresponding IDs in the model's vocabulary.\"\n",
    "# \"The \"conditional\" part of the name refers to the fact that the generated text is conditioned on the input text. In the case of Pegasus, this model is specialized for abstractive text summarization tasks, where the goal is to generate a summary of the input text.\"\n",
    "\n",
    "from transformers import PegasusTokenizer, PegasusForConditionalGeneration \n",
    "import requests\n",
    "from bs4 import BeautifulSoup"
   ]
  },
  {
   "cell_type": "code",
   "execution_count": 31,
   "id": "b11362c5-8698-4b4d-800f-885bb217ee90",
   "metadata": {},
   "outputs": [],
   "source": [
    "model_name = \"human-centered-summarization/financial-summarization-pegasus\"\n",
    "tokenizer = PegasusTokenizer.from_pretrained(model_name) #what encodes and decodes the text\n",
    "model = PegasusForConditionalGeneration.from_pretrained(model_name)"
   ]
  },
  {
   "cell_type": "code",
   "execution_count": 32,
   "id": "3bf56318-c1d1-42ab-82a4-d559c0564325",
   "metadata": {},
   "outputs": [
    {
     "name": "stdout",
     "output_type": "stream",
     "text": [
      "Tesla stock hit with two downgrades in two days: What analysts are saying\n",
      "[<p>Analysts at both Morgan Stanley and Barclays have downgraded Tesla shares to \"equal weight.\" Yahoo Finance Automotive Reporter Pras Subramanian explains why.</p>, <p><span class=\"speaker\">SEANA SMITH:</span> Well, investors are unplugging from Tesla with shares sinking lower today, off just over 3%. The EV maker facing two downgrades in just two days this week. One from Morgan Stanley, the analyst there, Adam Jonas, and the other from Barclays. So where does the company really stand? Yahoo Finance's Pras Subramanian joining us now. Pras, we know Tesla obviously a massive favorite here among investors since the start of the year with this huge run up. But a downgrade, particularly from Jonas, that's pretty big.</p>, <p><span class=\"speaker\">PRAS SUBRAMANIAN:</span> Yeah. I mean, he's a pretty longtime bull on Tesla. And Dan Levy, day before, also not a bearish analyst on Tesla. Both downgrading-- both basically saying that the stock is not tied to fundamentals right now. You know, not really much news other than some charging deals here and there that are-- that are good but not really needle movers for the stock.</p>, <p>So basically, they're talking about how the Tesla got caught up in AI run up with a lot of AI stocks like Nvidia. But basically, it's-- for Levy, it's a long-dated opportunity. For Jonas, he's saying generative AI and AI for driving are two different things. It's not the same thing. They're not the same companies like Nvidia and others that are rolling up at that. He says we should kind of detach this from reality we got from the AI dream is what he's saying.</p>, <p>But he says-- both analysts say the stock is still, at long term, owning the space. Like, it is a category leader in EV. So just-- you might want to own it but not so much right here. In fact, Jonas says don't rewrite the stock here based on these AI stuff. He raised the high price target because he sees some upside but not enough to keep buying here at these levels.</p>, <p><span class=\"speaker\">-</span> That's what I was going to say because the one thing I noticed with his note was that it seemed kind of balanced in playing both sides of the coin, if you will, with regard to Tesla. And certainly, you know, seeing the pullback today, we're seeing that knock-on effect of both of those downgrades. But with regard to it being the front runner in the EV space with both of the analysts. Did we notice that they see Tesla continuing to just hold its position?</p>, <p><span class=\"speaker\">PRAS SUBRAMANIAN:</span> They both said that-- in the near term that-- estimates need to come down for Q2. They're both-- they're too high right now. They say that for the near term, there's going to be some sort of a little bit of a dip there. But long term, based on stuff like software, battery technology, the ability to actually outsource software and battery technology to other companies. Jonas noting is that is a big opportunity for them. So there's long-term play. It's still good. But short term, there might be some-- a little bit of hiccups here as sort of the-- the analyst community might be too bullish on their near-term numbers.</p>, <p><span class=\"speaker\">SEANA SMITH:</span> And lots of questions just about the pricing strategy that's been laid out here from Tesla are really the price cuts and then raises that we've seen since the start of the year. We also want to bring in Rachelle Akuffo who's joining us from down at DC for the remainder of the hour. Hey, Rachelle.</p>, <p><span class=\"speaker\">RACHELLE AKUFFO:</span> Hey, Seana. So yeah, Pras, I wanted to ask you because I mean, when we look at the deal with GM and Ford when it came to Tesla as well, I mean, do you think that these downgrades, do you think they're fairly justified at least in the near term?</p>, <p><span class=\"speaker\">PRAS SUBRAMANIAN:</span> I think what's happening is that they need to downgrade the stock because if you're a fund manager and you have an index-- I was talking to Miles about this-- if you own a portfolio of stocks, Tesla keeps going up, up, up, up in terms of price, you kind of got to take a little bit off the table to sort of rebalance your portfolio from like a big institutional ownership point of view.</p>, <p>I think that's what's going on there. It is a downgrade based on the fact that we need to lighten up ownership of the stock because it's getting too high for-- if you were to manage a sort of fund. But for normal investors, more about a watch out here. Yeah, you might see a little bit more pops in the stock going into Q2. We're going to see the delivery numbers come out at the end of the month. So we'll see that. But maybe it's more of a cautionary downgrade right now, not so much that they actually hate the stock right now.</p>, <p><span class=\"speaker\">RACHELLE AKUFFO:</span> Fair enough. That's important context there. Pras Subramanian, always good to have you. Thanks so much.</p>]\n"
     ]
    }
   ],
   "source": [
    "#!pip install lxml\n",
    "\n",
    "url = \"https://sg.news.yahoo.com/tesla-stock-hit-two-downgrades-151408762.html?guccounter=1&guce_referrer=aHR0cHM6Ly93d3cuZ29vZ2xlLmNvbS8&guce_referrer_sig=AQAAADlllwEDx1bUlJiCpaZ-JAnMEsHaGkkZNXAxG8pzGgUq6SMFPs37f0kNluMJyG0zBgDzmiI8xSdRTXVenjiOphi6sp03rLyYK4n8RdZpi0PVRJScz3YmxEUVubZwI4Ehn207e88gp2iHy4DT5BdMAbYS8w_fx99DyFq9EETJ5sM5\"\n",
    "document_text = requests.get(url).text\n",
    "soup = BeautifulSoup(document_text, 'lxml')\n",
    "header = soup.findAll('h1')[1].text\n",
    "print(header)\n",
    "paragraphs = soup.findAll('p')\n",
    "print(paragraphs)"
   ]
  },
  {
   "cell_type": "code",
   "execution_count": 40,
   "id": "61fe7ae1-0404-4897-b291-989ea2953068",
   "metadata": {},
   "outputs": [
    {
     "name": "stdout",
     "output_type": "stream",
     "text": [
      "512\n",
      "Analysts at both Morgan Stanley and Barclays have downgraded Tesla shares to \"equal weight.\" Yahoo Finance Automotive Reporter Pras Subramanian explains why. SEANA SMITH: Well, investors are unplugging from Tesla with shares sinking lower today, off just over 3%. The EV maker facing two downgrades in just two days this week. One from Morgan Stanley, the analyst there, Adam Jonas, and the other from Barclays. So where does the company really stand? Yahoo Finance's Pras Subramanian joining us now. Pras, we know Tesla obviously a massive favorite here among investors since the start of the year with this huge run up. But a downgrade, particularly from Jonas, that's pretty big. PRAS SUBRAMANIAN: Yeah. I mean, he's a pretty longtime bull on Tesla. And Dan Levy, day before, also not a bearish analyst on Tesla. Both downgrading-- both basically saying that the stock is not tied to fundamentals right now. You know, not really much news other than some charging deals here and there that are-- that are good but not really needle movers for the stock. So basically, they're talking about how the Tesla got caught up in AI run up with a lot of AI stocks like Nvidia. But basically, it's-- for Levy, it's a long-dated opportunity. For Jonas, he's saying generative AI and AI for driving are two different things. It's not the same thing. They're not the same companies like Nvidia and others that are rolling up at that. He says we should kind of detach this from reality we got from the AI dream is what he's saying. But he says-- both analysts say the stock is still, at long term, owning the space. Like, it is a category leader in EV. So just-- you might want to own it but not so much right here. In fact, Jonas says don't rewrite the stock here based on these AI stuff. He raised the high price target because he sees some upside but not enough to keep buying here at these levels. - That's what I was going to say because the one thing I noticed with his note was that it seemed kind of balanced in playing both sides of the coin, if you will, with regard to Tesla. And certainly, you know, seeing the pullback today, we're seeing that knock-on effect of both of those downgrades. But with regard to it being the front runner\n"
     ]
    }
   ],
   "source": [
    "print(tokenizer.model_max_length)\n",
    "\n",
    "text_array = []\n",
    "for paragraph in paragraphs:\n",
    "    text_array.append(paragraph.text)\n",
    "    \n",
    "words = ' '.join(text_array).split(' ')[:400] # model accepts max input length of 512 tokens so ill pass in less to be safe\n",
    "text = ' '.join(words)\n",
    "print(text)"
   ]
  },
  {
   "cell_type": "code",
   "execution_count": 47,
   "id": "03ab348a-9a33-4c21-9976-466974c96527",
   "metadata": {},
   "outputs": [
    {
     "name": "stdout",
     "output_type": "stream",
     "text": [
      "tensor([[    0, 14796,  5921,  2931,   228, 38913,   116,   115,   188,   228,\n",
      "           390,   107,     1]])\n",
      "EV maker facing two downgrades in just two days.\n"
     ]
    }
   ],
   "source": [
    "input_ids = tokenizer.encode(text, return_tensors='pt')\n",
    "#print(input_ids)\n",
    "\n",
    "#num beams refers to beam width in beam search algorithm\n",
    "\n",
    "#for future reference - https://www.youtube.com/watch?v=RLWuzLLSIgw&ab_channel=DeepLearningAI\n",
    "output = model.generate(input_ids, max_length=60, num_beams=6, early_stopping=True) # early stopping - doesnt have to be 60 token\n",
    "print(output)\n",
    "summary = tokenizer.decode(output[0], skip_special_tokens=True)\n",
    "print(summary)"
   ]
  },
  {
   "cell_type": "code",
   "execution_count": 112,
   "id": "60829b5e-2d58-460c-8b17-b9d177830c78",
   "metadata": {},
   "outputs": [
    {
     "name": "stdout",
     "output_type": "stream",
     "text": [
      " BTC, TSLA, GME\n"
     ]
    },
    {
     "name": "stdout",
     "output_type": "stream",
     "text": [
      "['BTC', ' TSLA', ' GME']\n"
     ]
    }
   ],
   "source": [
    "ticker = input()\n",
    "monitored_tickers = ['GME', 'TSLA', 'BTC']"
   ]
  },
  {
   "cell_type": "code",
   "execution_count": 130,
   "id": "3675b357-beea-49f3-a6b9-ce394bcabc7c",
   "metadata": {},
   "outputs": [
    {
     "name": "stdout",
     "output_type": "stream",
     "text": [
      "['/?sa=X&ved=0ahUKEwj3l-iMj-H_AhWDHrkGHTv_AUMQOwgC', '/search?q=yahoo+finance+TSLA&tbm=nws&ie=UTF-8&gbv=1&sei=2ZyZZLfHL4O95OUPu_6HmAQ', '/search?q=yahoo+finance+TSLA&ie=UTF-8&source=lnms&sa=X&ved=0ahUKEwj3l-iMj-H_AhWDHrkGHTv_AUMQ_AUIBSgA', '/search?q=yahoo+finance+TSLA&ie=UTF-8&tbm=vid&source=lnms&sa=X&ved=0ahUKEwj3l-iMj-H_AhWDHrkGHTv_AUMQ_AUIBygC', '/search?q=yahoo+finance+TSLA&ie=UTF-8&tbm=isch&source=lnms&sa=X&ved=0ahUKEwj3l-iMj-H_AhWDHrkGHTv_AUMQ_AUICCgD', 'https://maps.google.com/maps?q=yahoo+finance+TSLA&um=1&ie=UTF-8&sa=X&ved=0ahUKEwj3l-iMj-H_AhWDHrkGHTv_AUMQ_AUICSgE', '/search?q=yahoo+finance+TSLA&ie=UTF-8&tbm=shop&source=lnms&sa=X&ved=0ahUKEwj3l-iMj-H_AhWDHrkGHTv_AUMQ_AUICigF', '/search?q=yahoo+finance+TSLA&ie=UTF-8&tbm=bks&source=lnms&sa=X&ved=0ahUKEwj3l-iMj-H_AhWDHrkGHTv_AUMQ_AUICygG', '/advanced_search', '/search?q=yahoo+finance+TSLA&ie=UTF-8&tbm=nws&source=lnt&tbs=qdr:h&sa=X&ved=0ahUKEwj3l-iMj-H_AhWDHrkGHTv_AUMQpwUIDQ', '/search?q=yahoo+finance+TSLA&ie=UTF-8&tbm=nws&source=lnt&tbs=qdr:d&sa=X&ved=0ahUKEwj3l-iMj-H_AhWDHrkGHTv_AUMQpwUIDg', '/search?q=yahoo+finance+TSLA&ie=UTF-8&tbm=nws&source=lnt&tbs=qdr:w&sa=X&ved=0ahUKEwj3l-iMj-H_AhWDHrkGHTv_AUMQpwUIDw', '/search?q=yahoo+finance+TSLA&ie=UTF-8&tbm=nws&source=lnt&tbs=qdr:m&sa=X&ved=0ahUKEwj3l-iMj-H_AhWDHrkGHTv_AUMQpwUIEA', '/search?q=yahoo+finance+TSLA&ie=UTF-8&tbm=nws&source=lnt&tbs=qdr:y&sa=X&ved=0ahUKEwj3l-iMj-H_AhWDHrkGHTv_AUMQpwUIEQ', '/search?q=yahoo+finance+TSLA&ie=UTF-8&tbm=nws&source=lnt&tbs=ar:1&sa=X&ved=0ahUKEwj3l-iMj-H_AhWDHrkGHTv_AUMQpwUIEg', '/search?q=yahoo+finance+TSLA&ie=UTF-8&tbm=nws&source=lnt&tbs=sbd:1&sa=X&ved=0ahUKEwj3l-iMj-H_AhWDHrkGHTv_AUMQpwUIFA', '/url?q=https://finance.yahoo.com/news/tesla-stock-sinks-as-barclays-says-its-time-to-move-to-the-sidelines-184338125.html&sa=U&ved=2ahUKEwj3l-iMj-H_AhWDHrkGHTv_AUMQxfQBegQIAxAC&usg=AOvVaw06fDCQFw6dmgiAzPK9bzvU', '/url?q=https://sg.finance.yahoo.com/news/tesla-nvidia-meta-us-stocks-060701948.html&sa=U&ved=2ahUKEwj3l-iMj-H_AhWDHrkGHTv_AUMQxfQBegQICRAC&usg=AOvVaw1g1g5w7nTJp-r2GB4bN1BE', '/url?q=https://finance.yahoo.com/news/tesla-are-investors-finally-realizing-that-its-an-ai-firm-one-analyst-thinks-so-142311383.html&sa=U&ved=2ahUKEwj3l-iMj-H_AhWDHrkGHTv_AUMQxfQBegQIABAC&usg=AOvVaw2zGEhY_GefY57BzGsyFFYv', '/url?q=https://finance.yahoo.com/news/tesla-stock-extends-record-streak-to-13-sessions-210555462.html&sa=U&ved=2ahUKEwj3l-iMj-H_AhWDHrkGHTv_AUMQxfQBegQIBRAC&usg=AOvVaw2-dOhg4tzbzC0M09Tit81l', '/url?q=https://finance.yahoo.com/news/tesla-supercharger-network-map-rivian-ford-gm-172631215.html&sa=U&ved=2ahUKEwj3l-iMj-H_AhWDHrkGHTv_AUMQxfQBegQIARAC&usg=AOvVaw0_IqFCNP5MZpqEqoO1vYBs', '/url?q=https://finance.yahoo.com/news/tesla-cybertruck-could-be-as-mainstream-as-the-model-y-ark-invest-203139255.html&sa=U&ved=2ahUKEwj3l-iMj-H_AhWDHrkGHTv_AUMQxfQBegQIBxAC&usg=AOvVaw11KEG7Pp5bmmAnQTBdb-qO', '/url?q=https://finance.yahoo.com/news/im-nobody-calls-employer-elon-130514911.html&sa=U&ved=2ahUKEwj3l-iMj-H_AhWDHrkGHTv_AUMQxfQBegQIBBAC&usg=AOvVaw1GaDrvBm92yvOCMOiZnjOg', '/url?q=https://finance.yahoo.com/news/tesla-stock-surges-as-all-model-3-sedans-now-qualify-for-full-ev-tax-credit-141823296.html&sa=U&ved=2ahUKEwj3l-iMj-H_AhWDHrkGHTv_AUMQxfQBegQIBhAC&usg=AOvVaw0ETrDLc__jMBkxaErI48vw', '/url?q=https://sg.finance.yahoo.com/news/musk-brief-modi-teslas-india-173946794.html&sa=U&ved=2ahUKEwj3l-iMj-H_AhWDHrkGHTv_AUMQxfQBegQICBAC&usg=AOvVaw3k5iGpQPd9Jzl8UzprtrTu', '/url?q=https://finance.yahoo.com/news/stock-market-news-live-updates-today-june-26-2023-095936764.html&sa=U&ved=2ahUKEwj3l-iMj-H_AhWDHrkGHTv_AUMQxfQBegQIAhAC&usg=AOvVaw3QGa5Bvkj-_m56GwX-TGLz', '/search?q=yahoo+finance+TSLA&ie=UTF-8&tbm=nws&ei=2ZyZZLfHL4O95OUPu_6HmAQ&start=10&sa=N', '/url?q=https://support.google.com/websearch%3Fp%3Dws_settings_location%26hl%3Den-SG&sa=U&ved=0ahUKEwj3l-iMj-H_AhWDHrkGHTv_AUMQty4IUw&usg=AOvVaw1w8si84OJREcWNQNnxiQz4', '/url?q=https://accounts.google.com/ServiceLogin%3Fcontinue%3Dhttps://www.google.com/search%253Fq%253Dyahoo%252Bfinance%252BTSLA%2526tbm%253Dnws%26hl%3Den&sa=U&ved=0ahUKEwj3l-iMj-H_AhWDHrkGHTv_AUMQxs8CCFQ&usg=AOvVaw05thpUSob1Z5yun2nodnjJ', 'https://www.google.com/preferences?hl=en-SG&fg=1&sa=X&ved=0ahUKEwj3l-iMj-H_AhWDHrkGHTv_AUMQ5fUCCFU', 'https://policies.google.com/privacy?hl=en-SG&fg=1', 'https://policies.google.com/terms?hl=en-SG&fg=1', '/setprefs?hl=en&prev=https://www.google.com/search?q%3Dyahoo%2Bfinance%2BTSLA%26tbm%3Dnws%26pccc%3D1&sig=0_LiJqS0v980gasXBy2Nvpy8z7-OY%3D&cs=2&sa=X&ved=0ahUKEwj3l-iMj-H_AhWDHrkGHTv_AUMQjcAJCFY'] \n",
      "\n",
      "['https://finance.yahoo.com/news/tesla-stock-sinks-as-barclays-says-its-time-to-move-to-the-sidelines-184338125.html', 'https://sg.finance.yahoo.com/news/tesla-nvidia-meta-us-stocks-060701948.html', 'https://finance.yahoo.com/news/tesla-are-investors-finally-realizing-that-its-an-ai-firm-one-analyst-thinks-so-142311383.html', 'https://finance.yahoo.com/news/tesla-stock-extends-record-streak-to-13-sessions-210555462.html', 'https://finance.yahoo.com/news/tesla-supercharger-network-map-rivian-ford-gm-172631215.html', 'https://finance.yahoo.com/news/tesla-cybertruck-could-be-as-mainstream-as-the-model-y-ark-invest-203139255.html', 'https://finance.yahoo.com/news/im-nobody-calls-employer-elon-130514911.html', 'https://finance.yahoo.com/news/tesla-stock-surges-as-all-model-3-sedans-now-qualify-for-full-ev-tax-credit-141823296.html', 'https://sg.finance.yahoo.com/news/musk-brief-modi-teslas-india-173946794.html', 'https://finance.yahoo.com/news/stock-market-news-live-updates-today-june-26-2023-095936764.html', 'https://www.google.com/search?q%3Dyahoo%2Bfinance%2BTSLA%26tbm%3Dnws%26pccc%3D1']\n"
     ]
    }
   ],
   "source": [
    "def search_ticker(ticker):\n",
    "    url = \"https://www.google.com/search?q=yahoo+finance+{}&tbm=nws\".format(ticker)\n",
    "    get_request = requests.get(url)\n",
    "    soup = BeautifulSoup(get_request.text, 'lxml')\n",
    "    links = soup.find_all('a')\n",
    "    array = []\n",
    "    for link in links:\n",
    "        array.append(link.get('href'))\n",
    "    return array #returns array of yahoo finance urls\n",
    "    \n",
    "def filter_links(arr):\n",
    "    exclude_list = ['maps', 'policies', 'preferences', 'accounts', 'support']\n",
    "    result = []\n",
    "    for link in arr:\n",
    "        if (\"https\" in link) and not any(exclude_word in link for exclude_word in exclude_list):\n",
    "            start_index = link.find(\"https://\")\n",
    "            if start_index != -1:\n",
    "                link = link[start_index:].split('&')[0]\n",
    "            result.append(link)\n",
    "    return result #removes unwanted urls\n",
    "            \n",
    "raw_urls = search_ticker(ticker)\n",
    "print(raw_urls, \"\\n\")\n",
    "filtered_links = filter_links(raw_urls)\n",
    "print(filtered_links)"
   ]
  },
  {
   "cell_type": "code",
   "execution_count": 207,
   "id": "6d2f4667-c0eb-4fc6-9246-1f762764476a",
   "metadata": {},
   "outputs": [
    {
     "name": "stdout",
     "output_type": "stream",
     "text": [
      "Tesla (TSLA) stock sank 5.5% on Wednesday, its steepest loss in two months, after one analyst on Wall Street cautioned it was time to take some money off the table. In a note to investors on Wednesday, Barclays analyst Dan Levy downgraded Tesla shares to Equal Weight from Overweight, claiming the recent rally ignored near-term questions about the stock’s fundamentals. Though Tesla doesn’t exactly trade on fundamentals — it currently trades at a forward P/E of 80 — Levy does make some interesting points about where Tesla stock sits compared to only a month ago. “We believe the stock’s recent rally can be best explained by the market’s current AI-driven thematic trade, as well as excitement over recent announcements to open the TSLA Supercharger network to other brands,” Levy said in his note. “Yet while we aren’t surprised that the stock has participated in the rally, we believe it is prudent to move to the sidelines.” Levy’s main thesis for the downgrade rests on three main points: the AI effect that may be overblown, Tesla’s recent Supercharger deals and uncertain benefits, and, most importantly, how multiple expansion is really the “entirety of the rally.” As for AI, the recent run-up in Nvidia and other AI-related stocks that looped in Tesla made sense because of the company’s ventures like FSD (full self-driving), its Dojo supercomputer, and the Optimus robot (though somewhat ironically CEO Elon Musk has warned about the dangers of AI). Levy however believes AI is a “long-dated” opportunity for Tesla, not something that can be counted on right now to considerably boost its valuation. Similarly, Tesla’s charging deals with Ford, GM, and Rivian are seen more as creating “marketing benefits” for Tesla, with any gains again probably coming in the long term, Levy says. The biggest factor for the ~$300 billion run-up in Tesla stock has been its expanding multiple, Levy said. Tesla’s near-term fundamentals haven’t changed, and while other AI-related stocks have seen positive profit revisions that led to market cap increases, this isn’t the case for Tesla. Levy believes a number of factors fly in the face \n",
      "\n",
      "One reason Tesla's (TSLA) stock is soaring? Investors, one analyst contends, are viewing the company as a safe bet on AI technology. “It’s kind of like the markets are finally realizing the full value of the software that they've been developing for a long time that a lot of people have been saying is going to be incredibly valuable,” Gerber Kawasaki Wealth & Investment Management CEO Ross Gerber told Yahoo Finance Live (video above). Tesla's stock opened at $260 on Tuesday, the highest since September. In the past two weeks alone, Tesla is up a healthy 12%. For years, Tesla and its CEO Elon Musk have said AI, which is at the center of the firm's self-driving software tech, is one big reason to pay attention to the EV company. That drum keeps beating. For example: Last September, the company held an “AI Day” where execs spoke about the self-driving Autopilot software, a prototype robot named Optimus, and its high-performance Dojo hardware, which has the capability to train Tesla’s AI on videos filmed by the vehicles. Also fueling the Tesla AI hype is a new wave of excitement about the company’s robotaxi concept, a potential ride-sharing service that relies on autonomous driving technology. Tom Narayan, lead equity analyst, global autos at RBC Capital Markets told Yahoo Finance Live last week that robotaxis could make up 70% of Tesla’s future value. “It's really nice that everybody's into AI, but this has been going on for a long time,” Gerber said of Tesla’s push into the AI conversation. That said, there are still some serious challenges ahead: Tesla's Autopilot has been involved in hundreds of crashes, demonstrating that the technology is not yet perfect and there may be a few bumps in the road ahead. That aside, Gerber said he is seeing other signs of optimism when it comes to Tesla’s stock. Gerber – who criticized Musk in recent months for his role at Twitter – said “institutional investors” have returned since Musk stepped down as CEO of the social network a month ago and increased his focus on Tesla. More good \n",
      "\n",
      "Tesla (TSLA) shares jumped 3.6% today, extending the company’s record winning streak to 13 sessions in a row. In that time, shares have risen nearly 42%, adding further gains to an already big year for Tesla shareholders. Tesla stock is rising in tandem with the overall market today on cooling inflation data, but the shares have been on the rise for a couple weeks now. The latest big news came late last week when General Motors (GM) announced it was joining forces with Tesla to leverage the electric vehicle maker's Supercharger Network. The companies announced the Tesla Supercharger Network will be open to GM EV drivers starting next year, and by 2025 GM anticipates its EVs will include Tesla’s NACs connector, which will allow for direct access to Tesla Superchargers. GM’s move comes two weeks after Ford (F) announced a similar partnership with Tesla to enable access for Ford vehicles to Tesla's charging network. Several industry analysts recently told Yahoo Finance that Tesla's partnership with Ford would be a positive tailwind for Tesla's revenue moving forward. \"Recall in our 2022 report that we sized the potential for Tesla opening its network more widely in the next few years (i.e. more than just Ford) at $1-$3 bn of incremental revenue (although Tesla wouldn’t necessarily capture all of this),\" Goldman analyst Mark Delaney wrote in a note following the Ford deal. \"We believe the news is a modest incremental positive for Tesla as it will likely bring in additional profits and help Tesla to sustain the most robust charging network, albeit with some risk of fewer vehicle sales.\" Nonetheless it hasn’t all been good news for Tesla during the recent run-up, as the stock brushed aside negative reports about the upcoming and highly anticipated Cybertruck. Per leaked internal documents that German newspaper Handelsblatt reported on, as picked up by Wired, Tesla engineers have had some big concerns about the Cybertruck’s capabilities. Preproduction “alpha” versions of the Cybertruck were struggling with basic issues like suspension, body sealing, noise levels, handling, and braking, Wired reports. An automotive engineer Wired spoke with said a company \n",
      "\n",
      "Tesla (TSLA)’s Supercharger network has helped the electric vehicle (EV) company dominate market share across the world. There are over 45,000 Superchargers available globally, with roughly 17,000 of them located within the US throughout 6,180 locations. An overwhelming majority are found in California, which has 344 Supercharger locations, while Florida, Texas, New York, and Virginia round out the top five. All 50 states, including Alaska and Hawaii, are part of the Network, along with Puerto Rico. A single charge of just 15 minutes can add up to 200 miles, helping drivers in more rural areas last longer on the road until finding another Supercharger location. More EV charging infrastructure will be needed in the coming years, particularly since the EV space is poised to grow substantially over the next two decades. The Biden administration is spending $7.5 billion to build a national network of 500,000 EV chargers by 2030, though research firms have found many millions more will be needed to meet demand. According to projections from PwC, the number of EVs in the US will climb a steep hockey-stick trajectory to 27 million by 2030 and 92 million by 2040. This compares to about 3 million EVs in 2022. On June 20, EV maker Rivian (RIVN) announced that it reached a deal that allows its vehicles to charge within Tesla's Supercharger Network, while EV charging system manufacturer stated it would add Tesla's standard to its EV chargers in 2024. This followed similar deals between Tesla and General Motors (GM), announced earlier this month, and Tesla and Ford (F), announced in May. Though the Tesla Supercharger network touts over 17,000 charging plugs, only about 12,000 of those will be available to Ford, GM, and Rivian owners. \"Consumers won't have to worry about what plug, what socket, which charging station,\" Tesla CEO Elon Musk said. \"This is a huge advancement for electric vehicles in North America.\" Rivian, GM, and Ford EV drivers will be able to utilize the Supercharger Network beginning in 2024. And by 2025, the Tesla charging port will be built into Rivian, Ford, and GM EVs, meaning that \n",
      "\n",
      "Cathie Wood’s ARK Invest is out with another bullish call on Tesla (TSLA), specifically its upcoming Cybertruck pickup. In a post on the fund’s website, analyst Sam Korus outlined a path were the the Cybertruck will be more than a “niche product,” which the firm says the consensus believes it will be. “In addition to 1.5 million existing Cybertruck reservations, early Google Trends data suggest that the Cybertruck could be as mainstream as the Tesla Model Y,” Korus wrote. When Tesla CEO Elon Musk tweeted about Cybertruck production line in early April, Google searches for “Cybertruck” exceeded that of the Model Y, and Korus noted search volume originated in “truck-loving geographies,\" suggesting desire to buy the EV. While search volume and reservations are positive data points, they are not necessarily dispositive of a huge upside surprise for Cybertruck sales. Korus said that there are other larger trends at play. When the US Energy Information Administration (EIA) forecast long range EV penetration in 2014, it saw little to no market share by 2040, Korus noted. Last year, as US EV market share topped 5%, the EIA was still behind the curve with its projections and has been increasing its forecast over the years to catch up. In its most recent 2022 forecast, the EIA sees EV penetration hitting 14% by 2040 then plateauing. Furthermore, the EIA expects trucks to make up 69% of all vehicles by 2050, with only 10% of those being EVs. Korus and ARK believe there’s much more room to grow. Korus said the firm sees global EV market share hitting over 70% by 2027, with the US not far behind. The ARK chart above assumes drastic price reductions for the cost of EVs due to battery cost declines. Though the industry does expect cost declines for EVs, most analysts and industry experts are not calling for 70% market penetration by 2027. The Biden Administration is aiming for only 50% of new vehicle sales to be electric by 2030, and even some studies have called that goal unrealistic. ARK, which has had huge calls on Tesla in the \n",
      "\n",
      "Twitter Inc. made headlines this week when it suspended the account of Aaron Greenspan, a well-known critic of Tesla Inc. and its CEO Elon Musk. See Next: This Startup Invented Programmable, Drinkable Plastic That Dissolves In Water In 60 Hours Greenspan, founder of PlainSite, found his online presence abruptly disrupted on June 13. The suspension of his account, which had more than 24,000 followers, raises questions about freedom of speech and online censorship. Ironically, Twitter claims defending and respecting the user's voice is one of its core values. Greenspan gained a reputation for meticulously monitoring Twitter for any criticism directed toward Tesla and Musk. His vigilance in tracking and documenting litigation involving various companies, including Tesla, Twitter, General Motors Corp. and Meta Platforms Inc., made him a prominent figure in the world of online scrutiny. Over the years, Greenspan and Musk have found themselves entangled in legal disputes, further fueling the intensity of their interactions. PlainSite served as a valuable resource for Twitter users, providing free access to state and federal court filings, public records and insightful analytics features for paying subscribers. Greenspan's personal Twitter account was also suspended. To stay updated with top startup news & investments, sign up for Benzinga’s Startup Investing & Equity Crowdfunding Newsletter Even before gaining control of Twitter, Musk would take a proactive approach to addressing criticism. Back in 2018, The Wall Street Journal reported that Musk actively monitored Twitter for tweets containing the hashtag $TSLA, often used by Tesla short-sellers. Musk would reach out to executives at companies to investigate employees who were potentially publishing negative tweets about his electric vehicle company. During that time, Musk reportedly emailed former Volkswagen CEO Herbert Diess in July 2018, questioning whether one of Diess's employees was using Twitter to criticize Tesla anonymously. Business Insider later reported that Volkswagen determined the tweets were posted by the employee's brother. Musk also allegedly texted Lawrence Fossi's employer. According to the WSJ, on July 23, 2018, Musk sent a text to the top executive at Fossi's company, asking the boss whether he knew his employee, known on Twitter as Montana \n",
      "\n",
      "Tesla stock (TSLA) is surging today, up as much as 4% in early trading and hitting highs not seen since early October of last year, as investor bullishness grows following news that all Model 3 sedans now qualify for the full federal electric vehicle tax credits. Tesla stock is on track for its ninth straight day of gains, its longest winning streak since January 2021. Earlier this week Tesla announced on its website that all versions of the Model 3 sedan now qualify for the full federal EV tax credit of $7,500; previously the cheaper Model 3 Rear-Wheel Drive (RWD) version qualified for half the amount. The federal government confirmed the announcement on its fueleconomy.gov website. The federal government’s requirements for the EV tax credit mandate that 40% of the critical minerals be extracted in the US or a country with a free trade agreement and 50% of the value of the battery components must be manufactured or assembled in North America. Though no reason was given for the change, it can be presumed Tesla updated where it was sourcing the materials for the Model 3 RWD batteries or where it assembles the packs. Prior to the announcement, Tesla was reportedly using LFP (lithium-ion phosphate) battery cells made by China’s CATL. Nevertheless, the inclusion of the full federal tax credit means the Tesla Model 3 RWD now costs $32,740 if buyers meet criteria including income restrictions and MSRP caps ($55,000 for cars; $80,000 for trucks and SUVs). While $32,740 is a relative deal in a new car market where the average price is around $45,000, more incentives can be had on EVs like the Model 3 that pull prices even lower. New York state offers up to $2,000 off EVs via its Drive Clean Rebate for which the Model 3 qualifies. In California, the state offers an even bigger incentive — a $7,500 tax rebate that depends on income and other requirements. Inclusion of both the federal and California state incentives drops the Model 3 down to $25,240 - which Reuters notes is below the cost of a new Toyota \n",
      "\n",
      "Stocks slipped to start the new week Monday as tech stocks fell and investors considered what the weekend's short-lived challenge to Vladimir Putin by armed mercenaries in Russia means for markets. The S&P 500 (^GSPC) was down around 0.4%, while the Dow Jones Industrial Average (^DJI) was roughly flat. The tech-heavy Nasdaq Composite (^IXIC) led the way down, dropping over 1%. As Yahoo Finance's Josh Schafer reported, some of the best-performing stocks of the first half of the year have been seeing downgrades from Wall Street analysts in recent weeks. Many of these stocks — like Tesla (TSLA), Apple (AAPL), and Alphabet (GOOGL) — fell Monday. With data on PCE inflation and consumer confidence due later this week, investors may well return to focusing on the Federal Reserve's next moves with inflation data, after Chair Jerome Powell hinted at more rate increases to come last week. Click here for the latest stock market news and in-depth analysis, including events that move stocks Read the latest financial and business news from Yahoo Finance \n",
      "\n"
     ]
    }
   ],
   "source": [
    "def scrape_articles(url_array):\n",
    "    articles = []\n",
    "    for url in url_array:\n",
    "        if (\"https://www.google.com\") not in url:\n",
    "            get_request = requests.get(url)\n",
    "            if get_request.status_code == 200:\n",
    "                soup = BeautifulSoup(get_request.text, 'lxml')\n",
    "                paragraphs = soup.find_all('p')\n",
    "                text = [paragraph.text for paragraph in paragraphs]\n",
    "                words = ' '.join(text).split(' ')[:350]\n",
    "                article = ' '.join(words)\n",
    "                articles.append(article)\n",
    "                print(article, \"\\n\")\n",
    "    return articles\n",
    "\n",
    "articles = scrape_articles(filtered_links)"
   ]
  },
  {
   "cell_type": "code",
   "execution_count": 208,
   "id": "7d7761ec-5a2f-4e0e-a8aa-e3ec26d02bed",
   "metadata": {},
   "outputs": [],
   "source": [
    "def summarise(articles):\n",
    "    result = []\n",
    "    for article in articles:\n",
    "        input_ids = tokenizer.encode(article, return_tensors='pt')\n",
    "        output = model.generate(input_ids, max_length=60, num_beams=5, early_stopping=True)\n",
    "        summary = tokenizer.decode(output[0], skip_special_tokens=True)\n",
    "        result.append(summary)\n",
    "    return result\n",
    "        \n",
    "summarised_articles = summarise(articles)"
   ]
  },
  {
   "cell_type": "code",
   "execution_count": 209,
   "id": "8a718257-4d6b-47f3-836b-62a9b4465304",
   "metadata": {},
   "outputs": [
    {
     "name": "stdout",
     "output_type": "stream",
     "text": [
      "['Barclays downgrades Tesla to Equal Weight from Overweight. Near-term fundamentals haven’t changed, Levy says', '‘It’s kind of like the markets are finally recognizing the full value of the software,’ Gerber says.', 'Shares have been on the rise for a couple weeks now. Tesla engineers had concerns about the upcoming Cybertruck', 'EVs will be able to charge within Tesla’s Supercharger network in 2024.', 'Tesla’s new truck to be more than a ‘niche product,’ firm says. ARK sees EV market share hitting over 70% by 2027', 'Well-known critic of Tesla, Elon Musk suspended. Greenspan’s personal Twitter account was also suspended', 'All versions of the Model 3 now qualify for full federal EV tax credit. Tesla Model 3 RWD version now costs $32,740 with full credit.', \"Tesla, Apple, Alphabet all fall on Monday. Investors consider what the weekend's short-lived challenge to Putin means\"]\n"
     ]
    }
   ],
   "source": [
    "print(summarised_articles)"
   ]
  },
  {
   "cell_type": "code",
   "execution_count": 210,
   "id": "508c4295-c45e-459b-8baf-436daaacf365",
   "metadata": {},
   "outputs": [],
   "source": [
    "from transformers import pipeline"
   ]
  },
  {
   "cell_type": "code",
   "execution_count": 211,
   "id": "fbb0b94b-5d4f-48ba-91fb-986a57e3995e",
   "metadata": {},
   "outputs": [
    {
     "name": "stderr",
     "output_type": "stream",
     "text": [
      "No model was supplied, defaulted to distilbert-base-uncased-finetuned-sst-2-english and revision af0f99b (https://huggingface.co/distilbert-base-uncased-finetuned-sst-2-english).\n",
      "Using a pipeline without specifying a model name and revision in production is not recommended.\n"
     ]
    }
   ],
   "source": [
    "analyzer = pipeline(\"sentiment-analysis\")"
   ]
  },
  {
   "cell_type": "code",
   "execution_count": 212,
   "id": "d296489b-efd0-444c-96fe-057b66a714dc",
   "metadata": {},
   "outputs": [
    {
     "name": "stdout",
     "output_type": "stream",
     "text": [
      "[{'label': 'NEGATIVE', 'score': 0.9703496694564819}, {'label': 'NEGATIVE', 'score': 0.6549932956695557}, {'label': 'NEGATIVE', 'score': 0.9748253226280212}, {'label': 'POSITIVE', 'score': 0.8688324093818665}, {'label': 'POSITIVE', 'score': 0.9890111684799194}, {'label': 'NEGATIVE', 'score': 0.9994245767593384}, {'label': 'NEGATIVE', 'score': 0.9905866980552673}, {'label': 'NEGATIVE', 'score': 0.9728940725326538}]\n"
     ]
    }
   ],
   "source": [
    "analysis = analyzer(summarised_articles)\n",
    "print(analysis)"
   ]
  },
  {
   "cell_type": "code",
   "execution_count": 213,
   "id": "09dbd4ac-a29a-467e-9887-adae15c9889a",
   "metadata": {},
   "outputs": [
    {
     "name": "stdout",
     "output_type": "stream",
     "text": [
      "Barclays downgrades Tesla to Equal Weight from Overweight. Near-term fundamentals haven’t changed, Levy says\n",
      "{'label': 'NEGATIVE', 'score': 0.9703496694564819}\n"
     ]
    }
   ],
   "source": [
    "print(summarised_articles[0])\n",
    "print(analysis[0])"
   ]
  },
  {
   "cell_type": "code",
   "execution_count": 217,
   "id": "f5e848a8-1498-46b8-95b7-2f365005430a",
   "metadata": {},
   "outputs": [],
   "source": [
    "def make_output(ticker, summarised_articles, analysis, filtered_links):\n",
    "    output = []\n",
    "    for i in range(len(summarised_articles)):\n",
    "        result = [ticker, summarised_articles[i], analysis[i]['label'], analysis[i]['score'], filtered_links[i]]\n",
    "        output.append(result)\n",
    "    return output\n",
    "\n",
    "output = make_output(ticker, summarised_articles, analysis, filtered_links)"
   ]
  },
  {
   "cell_type": "code",
   "execution_count": 218,
   "id": "e01b7429-07e3-43b8-bda6-7ac9b395265e",
   "metadata": {},
   "outputs": [],
   "source": [
    "output.insert(0, ['Ticker', 'Summary', 'Sentiment', 'Confidence', 'URL'])"
   ]
  },
  {
   "cell_type": "code",
   "execution_count": 219,
   "id": "744f3668-6b4f-470c-a7ba-e192186e63d0",
   "metadata": {},
   "outputs": [],
   "source": [
    "import csv\n",
    "with open('assetsummaries.csv', mode='w', newline='') as f:\n",
    "    csv_writer = csv.writer(f, delimiter=',', quotechar='\"', quoting=csv.QUOTE_MINIMAL)\n",
    "    csv_writer.writerows(output)"
   ]
  },
  {
   "cell_type": "code",
   "execution_count": 220,
   "id": "bc7a61bd-bdcf-4141-9d35-9757005125be",
   "metadata": {},
   "outputs": [],
   "source": [
    "!pip freeze > requirements.txt"
   ]
  },
  {
   "cell_type": "code",
   "execution_count": null,
   "id": "edb9813e-9b29-494d-8b99-d0438c2d8287",
   "metadata": {},
   "outputs": [],
   "source": []
  }
 ],
 "metadata": {
  "kernelspec": {
   "display_name": "Python 3",
   "language": "python",
   "name": "python3"
  },
  "language_info": {
   "codemirror_mode": {
    "name": "ipython",
    "version": 3
   },
   "file_extension": ".py",
   "mimetype": "text/x-python",
   "name": "python",
   "nbconvert_exporter": "python",
   "pygments_lexer": "ipython3",
   "version": "3.11.4 (v3.11.4:d2340ef257, Jun  6 2023, 19:15:51) [Clang 13.0.0 (clang-1300.0.29.30)]"
  },
  "vscode": {
   "interpreter": {
    "hash": "aee8b7b246df8f9039afb4144a1f6fd8d2ca17a180786b69acc140d282b71a49"
   }
  }
 },
 "nbformat": 4,
 "nbformat_minor": 5
}
